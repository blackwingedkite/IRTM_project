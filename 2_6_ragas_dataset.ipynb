{
 "cells": [
  {
   "cell_type": "code",
   "execution_count": 36,
   "metadata": {},
   "outputs": [],
   "source": [
    "from supabase import create_client, Client\n",
    "import os\n",
    "\n",
    "model_name = \"text-embedding-3-small\"\n",
    "openai_api_key = os.environ['OPENAI_API_KEY']\n",
    "supabase_url = os.environ['SUPABASE_URL']\n",
    "supabase_api_key = os.environ['SUPABASE_API_KEY'] \n",
    "supabase: Client = create_client(supabase_url, supabase_api_key)"
   ]
  },
  {
   "cell_type": "code",
   "execution_count": 9,
   "metadata": {},
   "outputs": [],
   "source": [
    "import pandas as pd\n",
    "page_size = 1000\n",
    "offset = 0\n",
    "all_data = []\n",
    "while True:\n",
    "    response = supabase.table('multidoc_questions').select(\"question, answer, gpt_answer, similar_doc_ids, similar_doc_ids_bm25, similar_doc_ids_tfidf\").range(offset, offset + page_size - 1).execute()\n",
    "    if not response.data:\n",
    "        break\n",
    "    all_data.extend(response.data)\n",
    "    offset += page_size\n",
    "gpt_answer_result = pd.DataFrame(all_data)\n"
   ]
  },
  {
   "cell_type": "code",
   "execution_count": 10,
   "metadata": {},
   "outputs": [],
   "source": [
    "page_size = 1000\n",
    "offset = 0\n",
    "all_data = []\n",
    "while True:\n",
    "    response = supabase.table('multidoc_sources').select(\"id, docid, title, content\").range(offset, offset + page_size - 1).execute()\n",
    "    if not response.data:\n",
    "        break\n",
    "    all_data.extend(response.data)\n",
    "    offset += page_size\n",
    "gpt_source_result = pd.DataFrame(all_data)"
   ]
  },
  {
   "cell_type": "code",
   "execution_count": 11,
   "metadata": {},
   "outputs": [
    {
     "name": "stdout",
     "output_type": "stream",
     "text": [
      "Time taken : 0.4150381088256836 seconds\n"
     ]
    }
   ],
   "source": [
    "# 將document的編號轉成黏在一起的文字字串，需要用gpt_source_result對應\n",
    "# Similar_doc_ids to document_ids\n",
    "import time\n",
    "start = time.time()\n",
    "gpt_answer_result[\"contexts\"] = None\n",
    "for index, row in gpt_answer_result.iterrows():\n",
    "    similar_doc_ids = row['similar_doc_ids']\n",
    "    if similar_doc_ids:\n",
    "        final_content = \"\"\n",
    "        for chunk_id in similar_doc_ids:\n",
    "            original_chunk = gpt_source_result[gpt_source_result['id'] == chunk_id][\"content\"].values[0]\n",
    "            final_content += original_chunk\n",
    "        gpt_answer_result.at[index, 'contexts'] = final_content\n",
    "end = time.time()\n",
    "print(f\"Time taken : {end - start} seconds\")\n"
   ]
  },
  {
   "cell_type": "code",
   "execution_count": 33,
   "metadata": {},
   "outputs": [
    {
     "data": {
      "text/html": [
       "<div>\n",
       "<style scoped>\n",
       "    .dataframe tbody tr th:only-of-type {\n",
       "        vertical-align: middle;\n",
       "    }\n",
       "\n",
       "    .dataframe tbody tr th {\n",
       "        vertical-align: top;\n",
       "    }\n",
       "\n",
       "    .dataframe thead th {\n",
       "        text-align: right;\n",
       "    }\n",
       "</style>\n",
       "<table border=\"1\" class=\"dataframe\">\n",
       "  <thead>\n",
       "    <tr style=\"text-align: right;\">\n",
       "      <th></th>\n",
       "      <th>question</th>\n",
       "      <th>gpt_answer</th>\n",
       "      <th>answer</th>\n",
       "      <th>contexts</th>\n",
       "    </tr>\n",
       "  </thead>\n",
       "  <tbody>\n",
       "    <tr>\n",
       "      <th>644</th>\n",
       "      <td>兒童食用零食的主要原因是什麼？</td>\n",
       "      <td>兒童食用零食的主要原因是因為零食好吃，並且吃了容易上癮。此外，兒童伙伴之間的攀比心態也促使了...</td>\n",
       "      <td>根據原文“據有關部門的調查數據顯示，在我國，兒童食用零食的主要原因很簡單，因爲好喫，並且喫了...</td>\n",
       "      <td>兒童零食 首次對兒童零食安全性提出要求：兒童零食的食品添加劑指標向嬰幼兒輔食標準看齊，不允許...</td>\n",
       "    </tr>\n",
       "    <tr>\n",
       "      <th>629</th>\n",
       "      <td>鄉賢是什麼？</td>\n",
       "      <td>鄉賢是指品德和才學受到鄉人推崇敬重的人。這一詞語始於東漢，是國家對有作爲的官員或有崇高威望、...</td>\n",
       "      <td>根據原文“鄉賢，漢語詞語，釋義爲品德、才學爲鄉人推崇敬重的人。”可知，鄉賢是指品德、才學受到...</td>\n",
       "      <td>鄉賢 鄉賢，漢語詞語，釋義爲品德、才學爲鄉人推崇敬重的人。鄉賢釋義和出處 品德、才學爲鄉人推...</td>\n",
       "    </tr>\n",
       "    <tr>\n",
       "      <th>70</th>\n",
       "      <td>三腳兩步這個成語出自哪裏？</td>\n",
       "      <td>三腳兩步這個成語出自清·李寶嘉《官場現形記》。</td>\n",
       "      <td>根據原文“成語出處 清·李寶嘉《官場現形記》第十回：‘太太三腳兩步，走進房間。’”可知，三腳...</td>\n",
       "      <td>三腳兩步 三腳兩步，漢語成語，拼音是sān jiǎo liǎng bù，意思是走得快，走不多...</td>\n",
       "    </tr>\n",
       "    <tr>\n",
       "      <th>962</th>\n",
       "      <td>什麼是作曲軟件中的軟音源？</td>\n",
       "      <td>作曲軟件中的軟音源，也稱為“虛擬樂器”，是指用來產生各種音色的軟件，是一種軟件化的樂器。軟音...</td>\n",
       "      <td>根據原文“軟音源 用來產生各種音色的軟件。又稱‘虛擬樂器’，是軟件合成器的另一種形式，就是軟...</td>\n",
       "      <td>作曲軟件 有些軟件本身是DAW但也可以當軟音源來使用，但一般不作爲插件使用。有些軟件既可以獨...</td>\n",
       "    </tr>\n",
       "    <tr>\n",
       "      <th>787</th>\n",
       "      <td>一片無痕文胸的特點是什麼？</td>\n",
       "      <td>一片無痕文胸的特點包括：\\n\\n1. 超細纖維布料製成，柔滑輕薄。\\n2. 采用粘合技術，罩...</td>\n",
       "      <td>根據原文“一片無痕文胸是用超細纖維布料製成的，摸上去十分柔滑輕薄，直接一次成型爲表面光滑流暢...</td>\n",
       "      <td>一片無痕文胸 一片無痕文胸生產工藝 一片式無痕文胸是用超細纖維布料製成的，摸上去十分柔滑輕薄...</td>\n",
       "    </tr>\n",
       "    <tr>\n",
       "      <th>...</th>\n",
       "      <td>...</td>\n",
       "      <td>...</td>\n",
       "      <td>...</td>\n",
       "      <td>...</td>\n",
       "    </tr>\n",
       "    <tr>\n",
       "      <th>352</th>\n",
       "      <td>假面愛人遊戲的作者是誰？</td>\n",
       "      <td>假面愛人遊戲的作者是米斯特（@mister2）。</td>\n",
       "      <td>根據原文“《假面愛人》是一款校園文字遊戲，遊戲作者是米斯特（@mister2）。”可知，假面...</td>\n",
       "      <td>假面愛人 《假面愛人》是一款校園文字遊戲，遊戲作者是米斯特（@mister2）。假面愛人遊戲...</td>\n",
       "    </tr>\n",
       "    <tr>\n",
       "      <th>49</th>\n",
       "      <td>三養是指什麼？</td>\n",
       "      <td>三養是指養福、養氣、養財。</td>\n",
       "      <td>根據原文“三養，讀音sān yǎng，漢語詞語，謂養福、養氣、養財。條目：三養（三養） 解釋...</td>\n",
       "      <td>三養 三養，讀音sān yǎng，漢語詞語，謂養福、養氣、養財。條目：三養（三養） 解釋： ...</td>\n",
       "    </tr>\n",
       "    <tr>\n",
       "      <th>141</th>\n",
       "      <td>《中國民俗老黃曆》的作者是誰？</td>\n",
       "      <td>《中國民俗老黃曆》的作者是任丙未。</td>\n",
       "      <td>根據原文“《中國民俗老黃曆》由氣象出版社出版，作者任丙未”可知，《中國民俗老黃曆》的作者是任丙未。</td>\n",
       "      <td>中國民俗老黃曆 《中國民俗老黃曆》由氣象出版社出版，作者任丙未。老黃曆是中國傳統民俗文化的特...</td>\n",
       "    </tr>\n",
       "    <tr>\n",
       "      <th>198</th>\n",
       "      <td>八里關鎮的人口數量和行政區劃情況是怎樣的？</td>\n",
       "      <td>八里關鎮的人口數量為3429人（2017年數據），轄有8個行政村和46個村民小組。行政區劃包...</td>\n",
       "      <td>根據原文“八里關鎮地處洋縣北部，屬中國氣候南北分界線－秦嶺腹地，平均海拔700米，距縣城47...</td>\n",
       "      <td>八里關鎮 八里關鎮地處洋縣北部，屬中國氣候南北分界線－秦嶺腹地，平均海拔700米，距縣城47...</td>\n",
       "    </tr>\n",
       "    <tr>\n",
       "      <th>192</th>\n",
       "      <td>在臺灣，是否設立了兒童法庭？</td>\n",
       "      <td>在臺灣，兒童法庭並未設立，因為12歲以下的人被認為無犯罪能力。具有犯罪能力的12歲以上、18...</td>\n",
       "      <td>根據原文“在臺灣，兒童是指12歲以下之人，無犯罪能力，故無兒童法庭之設立”可知，臺灣並沒有設...</td>\n",
       "      <td>兒童法庭 兒童法庭，作爲一般法庭的對照，是用以區別審理少年犯罪者與成人犯罪者的特殊法庭。 在...</td>\n",
       "    </tr>\n",
       "  </tbody>\n",
       "</table>\n",
       "<p>100 rows × 4 columns</p>\n",
       "</div>"
      ],
      "text/plain": [
       "                  question                                         gpt_answer  \\\n",
       "644        兒童食用零食的主要原因是什麼？  兒童食用零食的主要原因是因為零食好吃，並且吃了容易上癮。此外，兒童伙伴之間的攀比心態也促使了...   \n",
       "629                 鄉賢是什麼？  鄉賢是指品德和才學受到鄉人推崇敬重的人。這一詞語始於東漢，是國家對有作爲的官員或有崇高威望、...   \n",
       "70           三腳兩步這個成語出自哪裏？                            三腳兩步這個成語出自清·李寶嘉《官場現形記》。   \n",
       "962          什麼是作曲軟件中的軟音源？  作曲軟件中的軟音源，也稱為“虛擬樂器”，是指用來產生各種音色的軟件，是一種軟件化的樂器。軟音...   \n",
       "787          一片無痕文胸的特點是什麼？  一片無痕文胸的特點包括：\\n\\n1. 超細纖維布料製成，柔滑輕薄。\\n2. 采用粘合技術，罩...   \n",
       "..                     ...                                                ...   \n",
       "352           假面愛人遊戲的作者是誰？                           假面愛人遊戲的作者是米斯特（@mister2）。   \n",
       "49                 三養是指什麼？                                      三養是指養福、養氣、養財。   \n",
       "141        《中國民俗老黃曆》的作者是誰？                                  《中國民俗老黃曆》的作者是任丙未。   \n",
       "198  八里關鎮的人口數量和行政區劃情況是怎樣的？  八里關鎮的人口數量為3429人（2017年數據），轄有8個行政村和46個村民小組。行政區劃包...   \n",
       "192         在臺灣，是否設立了兒童法庭？  在臺灣，兒童法庭並未設立，因為12歲以下的人被認為無犯罪能力。具有犯罪能力的12歲以上、18...   \n",
       "\n",
       "                                                answer  \\\n",
       "644  根據原文“據有關部門的調查數據顯示，在我國，兒童食用零食的主要原因很簡單，因爲好喫，並且喫了...   \n",
       "629  根據原文“鄉賢，漢語詞語，釋義爲品德、才學爲鄉人推崇敬重的人。”可知，鄉賢是指品德、才學受到...   \n",
       "70   根據原文“成語出處 清·李寶嘉《官場現形記》第十回：‘太太三腳兩步，走進房間。’”可知，三腳...   \n",
       "962  根據原文“軟音源 用來產生各種音色的軟件。又稱‘虛擬樂器’，是軟件合成器的另一種形式，就是軟...   \n",
       "787  根據原文“一片無痕文胸是用超細纖維布料製成的，摸上去十分柔滑輕薄，直接一次成型爲表面光滑流暢...   \n",
       "..                                                 ...   \n",
       "352  根據原文“《假面愛人》是一款校園文字遊戲，遊戲作者是米斯特（@mister2）。”可知，假面...   \n",
       "49   根據原文“三養，讀音sān yǎng，漢語詞語，謂養福、養氣、養財。條目：三養（三養） 解釋...   \n",
       "141  根據原文“《中國民俗老黃曆》由氣象出版社出版，作者任丙未”可知，《中國民俗老黃曆》的作者是任丙未。   \n",
       "198  根據原文“八里關鎮地處洋縣北部，屬中國氣候南北分界線－秦嶺腹地，平均海拔700米，距縣城47...   \n",
       "192  根據原文“在臺灣，兒童是指12歲以下之人，無犯罪能力，故無兒童法庭之設立”可知，臺灣並沒有設...   \n",
       "\n",
       "                                              contexts  \n",
       "644  兒童零食 首次對兒童零食安全性提出要求：兒童零食的食品添加劑指標向嬰幼兒輔食標準看齊，不允許...  \n",
       "629  鄉賢 鄉賢，漢語詞語，釋義爲品德、才學爲鄉人推崇敬重的人。鄉賢釋義和出處 品德、才學爲鄉人推...  \n",
       "70   三腳兩步 三腳兩步，漢語成語，拼音是sān jiǎo liǎng bù，意思是走得快，走不多...  \n",
       "962  作曲軟件 有些軟件本身是DAW但也可以當軟音源來使用，但一般不作爲插件使用。有些軟件既可以獨...  \n",
       "787  一片無痕文胸 一片無痕文胸生產工藝 一片式無痕文胸是用超細纖維布料製成的，摸上去十分柔滑輕薄...  \n",
       "..                                                 ...  \n",
       "352  假面愛人 《假面愛人》是一款校園文字遊戲，遊戲作者是米斯特（@mister2）。假面愛人遊戲...  \n",
       "49   三養 三養，讀音sān yǎng，漢語詞語，謂養福、養氣、養財。條目：三養（三養） 解釋： ...  \n",
       "141  中國民俗老黃曆 《中國民俗老黃曆》由氣象出版社出版，作者任丙未。老黃曆是中國傳統民俗文化的特...  \n",
       "198  八里關鎮 八里關鎮地處洋縣北部，屬中國氣候南北分界線－秦嶺腹地，平均海拔700米，距縣城47...  \n",
       "192  兒童法庭 兒童法庭，作爲一般法庭的對照，是用以區別審理少年犯罪者與成人犯罪者的特殊法庭。 在...  \n",
       "\n",
       "[100 rows x 4 columns]"
      ]
     },
     "execution_count": 33,
     "metadata": {},
     "output_type": "execute_result"
    }
   ],
   "source": [
    "df = gpt_answer_result[['question', 'gpt_answer', 'answer', 'contexts']]\n",
    "df = df.sample(n=100, random_state=42)  # random_state 可以確保結果可重現\n",
    "df"
   ]
  },
  {
   "cell_type": "code",
   "execution_count": 34,
   "metadata": {},
   "outputs": [],
   "source": [
    "from datasets import Dataset, DatasetDict\n",
    "dataset = Dataset.from_pandas(df)\n",
    "\n",
    "# 2. 創建 DatasetDict\n",
    "dataset_dict = DatasetDict({\n",
    "    'baseline': dataset\n",
    "})\n",
    "dataset_dict['baseline'] = dataset_dict['baseline'].rename_column('answer', 'reference').rename_column('gpt_answer', 'answer')\n",
    "def preprocess_dataset(dataset: Dataset) -> Dataset:\n",
    "    \"\"\"預處理數據集，確保格式正確\"\"\"\n",
    "    \n",
    "    def process_row(row):\n",
    "        # 處理 contexts，確保它是列表格式\n",
    "        if isinstance(row['contexts'], str):\n",
    "            # 如果是字符串，將其轉換為單元素列表\n",
    "            contexts = [row['contexts']]\n",
    "        elif isinstance(row['contexts'], list):\n",
    "            contexts = row['contexts']\n",
    "        else:\n",
    "            contexts = []\n",
    "            \n",
    "        # 創建新的行數據\n",
    "        return {\n",
    "            'question': row['question'],\n",
    "            'answer': row['answer'],\n",
    "            'reference': row['reference'],\n",
    "            'contexts': contexts,\n",
    "            # 如果需要保留 index，也可以保留\n",
    "            '__index_level_0__': row.get('__index_level_0__', 0)\n",
    "        }\n",
    "    \n",
    "    # 應用處理函數到每一行\n",
    "    processed_data = [process_row(row) for row in dataset]\n",
    "    \n",
    "    # 創建新的 Dataset\n",
    "    return Dataset.from_pandas(pd.DataFrame(processed_data))\n",
    "dataset_dict = preprocess_dataset(dataset_dict['baseline'])\n"
   ]
  },
  {
   "cell_type": "code",
   "execution_count": 27,
   "metadata": {},
   "outputs": [
    {
     "data": {
      "text/plain": [
       "Dataset({\n",
       "    features: ['question', 'answer', 'reference', 'contexts', '__index_level_0__'],\n",
       "    num_rows: 100\n",
       "})"
      ]
     },
     "execution_count": 30,
     "metadata": {},
     "output_type": "execute_result"
    }
   ],
   "source": [
    "dataset_dict"
   ]
  },
  {
   "cell_type": "code",
   "execution_count": 21,
   "metadata": {},
   "outputs": [],
   "source": [
    "from ragas.metrics import (\n",
    "    answer_relevancy,\n",
    "    faithfulness,\n",
    "    context_recall,\n",
    "    context_precision\n",
    ")"
   ]
  },
  {
   "cell_type": "code",
   "execution_count": 40,
   "metadata": {},
   "outputs": [
    {
     "name": "stdout",
     "output_type": "stream",
     "text": [
      "\n",
      "批次 1/10\n",
      "評估開始時間: 2024-12-22 15:16:14\n"
     ]
    },
    {
     "name": "stderr",
     "output_type": "stream",
     "text": [
      "Evaluating: 100%|██████████| 40/40 [00:27<00:00,  1.47it/s]\n"
     ]
    },
    {
     "name": "stdout",
     "output_type": "stream",
     "text": [
      "評估結束時間: 2024-12-22 15:16:43\n",
      "執行時間: 28.74 秒\n",
      "\n",
      "當前批次結果:\n",
      "{'context_precision': 0.9000, 'faithfulness': 0.8218, 'answer_relevancy': 0.6782, 'context_recall': 1.0000}\n",
      "\n",
      "批次 2/10\n",
      "評估開始時間: 2024-12-22 15:16:43\n"
     ]
    },
    {
     "name": "stderr",
     "output_type": "stream",
     "text": [
      "Evaluating: 100%|██████████| 40/40 [00:38<00:00,  1.04it/s]\n"
     ]
    },
    {
     "name": "stdout",
     "output_type": "stream",
     "text": [
      "評估結束時間: 2024-12-22 15:17:22\n",
      "執行時間: 39.01 秒\n",
      "\n",
      "當前批次結果:\n",
      "{'context_precision': 1.0000, 'faithfulness': 0.9000, 'answer_relevancy': 0.8938, 'context_recall': 0.9750}\n",
      "\n",
      "批次 3/10\n",
      "評估開始時間: 2024-12-22 15:17:22\n"
     ]
    },
    {
     "name": "stderr",
     "output_type": "stream",
     "text": [
      "Evaluating: 100%|██████████| 40/40 [01:05<00:00,  1.63s/it]\n"
     ]
    },
    {
     "name": "stdout",
     "output_type": "stream",
     "text": [
      "評估結束時間: 2024-12-22 15:18:28\n",
      "執行時間: 65.94 秒\n",
      "\n",
      "當前批次結果:\n",
      "{'context_precision': 1.0000, 'faithfulness': 0.8500, 'answer_relevancy': 0.7823, 'context_recall': 1.0000}\n",
      "\n",
      "批次 4/10\n",
      "評估開始時間: 2024-12-22 15:18:28\n"
     ]
    },
    {
     "name": "stderr",
     "output_type": "stream",
     "text": [
      "Evaluating: 100%|██████████| 40/40 [00:43<00:00,  1.08s/it]\n"
     ]
    },
    {
     "name": "stdout",
     "output_type": "stream",
     "text": [
      "評估結束時間: 2024-12-22 15:19:12\n",
      "執行時間: 43.71 秒\n",
      "\n",
      "當前批次結果:\n",
      "{'context_precision': 1.0000, 'faithfulness': 0.8217, 'answer_relevancy': 0.7840, 'context_recall': 0.9083}\n",
      "\n",
      "批次 5/10\n",
      "評估開始時間: 2024-12-22 15:19:12\n"
     ]
    },
    {
     "name": "stderr",
     "output_type": "stream",
     "text": [
      "Evaluating: 100%|██████████| 40/40 [00:23<00:00,  1.69it/s]\n"
     ]
    },
    {
     "name": "stdout",
     "output_type": "stream",
     "text": [
      "評估結束時間: 2024-12-22 15:19:36\n",
      "執行時間: 24.31 秒\n",
      "\n",
      "當前批次結果:\n",
      "{'context_precision': 0.9000, 'faithfulness': 0.8889, 'answer_relevancy': 0.7886, 'context_recall': 0.9750}\n",
      "\n",
      "批次 6/10\n",
      "評估開始時間: 2024-12-22 15:19:36\n"
     ]
    },
    {
     "name": "stderr",
     "output_type": "stream",
     "text": [
      "Evaluating: 100%|██████████| 40/40 [00:25<00:00,  1.60it/s]\n"
     ]
    },
    {
     "name": "stdout",
     "output_type": "stream",
     "text": [
      "評估結束時間: 2024-12-22 15:20:02\n",
      "執行時間: 25.70 秒\n",
      "\n",
      "當前批次結果:\n",
      "{'context_precision': 1.0000, 'faithfulness': 0.9333, 'answer_relevancy': 0.7999, 'context_recall': 1.0000}\n",
      "\n",
      "批次 7/10\n",
      "評估開始時間: 2024-12-22 15:20:02\n"
     ]
    },
    {
     "name": "stderr",
     "output_type": "stream",
     "text": [
      "Evaluating: 100%|██████████| 40/40 [00:27<00:00,  1.44it/s]\n"
     ]
    },
    {
     "name": "stdout",
     "output_type": "stream",
     "text": [
      "評估結束時間: 2024-12-22 15:20:30\n",
      "執行時間: 28.77 秒\n",
      "\n",
      "當前批次結果:\n",
      "{'context_precision': 0.8000, 'faithfulness': 0.8076, 'answer_relevancy': 0.5862, 'context_recall': 0.6833}\n",
      "\n",
      "批次 8/10\n",
      "評估開始時間: 2024-12-22 15:20:30\n"
     ]
    },
    {
     "name": "stderr",
     "output_type": "stream",
     "text": [
      "Evaluating: 100%|██████████| 40/40 [00:34<00:00,  1.16it/s]\n"
     ]
    },
    {
     "name": "stdout",
     "output_type": "stream",
     "text": [
      "評估結束時間: 2024-12-22 15:21:06\n",
      "執行時間: 35.22 秒\n",
      "\n",
      "當前批次結果:\n",
      "{'context_precision': 1.0000, 'faithfulness': 0.8713, 'answer_relevancy': 0.6765, 'context_recall': 0.9000}\n",
      "\n",
      "批次 9/10\n",
      "評估開始時間: 2024-12-22 15:21:06\n"
     ]
    },
    {
     "name": "stderr",
     "output_type": "stream",
     "text": [
      "Evaluating: 100%|██████████| 40/40 [00:30<00:00,  1.30it/s]\n"
     ]
    },
    {
     "name": "stdout",
     "output_type": "stream",
     "text": [
      "評估結束時間: 2024-12-22 15:21:38\n",
      "執行時間: 32.18 秒\n",
      "\n",
      "當前批次結果:\n",
      "{'context_precision': 0.6000, 'faithfulness': 0.7524, 'answer_relevancy': 0.5200, 'context_recall': 0.6750}\n",
      "\n",
      "批次 10/10\n",
      "評估開始時間: 2024-12-22 15:21:38\n"
     ]
    },
    {
     "name": "stderr",
     "output_type": "stream",
     "text": [
      "Evaluating: 100%|██████████| 40/40 [01:32<00:00,  2.31s/it]\n"
     ]
    },
    {
     "name": "stdout",
     "output_type": "stream",
     "text": [
      "評估結束時間: 2024-12-22 15:23:11\n",
      "執行時間: 92.97 秒\n",
      "\n",
      "當前批次結果:\n",
      "{'context_precision': 1.0000, 'faithfulness': 1.0000, 'answer_relevancy': 0.8744, 'context_recall': 0.9667}\n",
      "\n",
      "所有批次的平均結果:\n"
     ]
    },
    {
     "ename": "TypeError",
     "evalue": "Could not convert [list([0.9999999999, 0.9999999999, 0.9999999999, 0.9999999999, 0.9999999999, 0.0, 0.9999999999, 0.9999999999, 0.9999999999, 0.9999999999, 0.9999999999, 0.9999999999, 0.9999999999, 0.9999999999, 0.9999999999, 0.9999999999, 0.9999999999, 0.9999999999, 0.9999999999, 0.9999999999, 0.9999999999, 0.9999999999, 0.9999999999, 0.9999999999, 0.9999999999, 0.9999999999, 0.9999999999, 0.9999999999, 0.9999999999, 0.9999999999, 0.9999999999, 0.9999999999, 0.9999999999, 0.9999999999, 0.9999999999, 0.9999999999, 0.9999999999, 0.9999999999, 0.9999999999, 0.9999999999, 0.9999999999, 0.0, 0.9999999999, 0.9999999999, 0.9999999999, 0.9999999999, 0.9999999999, 0.9999999999, 0.9999999999, 0.9999999999, 0.9999999999, 0.9999999999, 0.9999999999, 0.9999999999, 0.9999999999, 0.9999999999, 0.9999999999, 0.9999999999, 0.9999999999, 0.9999999999, 0.9999999999, 0.9999999999, 0.0, 0.9999999999, 0.9999999999, 0.9999999999, 0.9999999999, 0.9999999999, 0.9999999999, 0.0, 0.9999999999, 0.9999999999, 0.9999999999, 0.9999999999, 0.9999999999, 0.9999999999, 0.9999999999, 0.9999999999, 0.9999999999, 0.9999999999, 0.9999999999, 0.0, 0.0, 0.0, 0.9999999999, 0.9999999999, 0.9999999999, 0.0, 0.9999999999, 0.9999999999, 0.9999999999, 0.9999999999, 0.9999999999, 0.9999999999, 0.9999999999, 0.9999999999, 0.9999999999, 0.9999999999, 0.9999999999, 0.9999999999])] to numeric",
     "output_type": "error",
     "traceback": [
      "\u001b[0;31m---------------------------------------------------------------------------\u001b[0m",
      "\u001b[0;31mTypeError\u001b[0m                                 Traceback (most recent call last)",
      "Cell \u001b[0;32mIn[40], line 84\u001b[0m\n\u001b[1;32m     77\u001b[0m \u001b[38;5;66;03m# 顯示最終結果統計\u001b[39;00m\n\u001b[1;32m     78\u001b[0m \u001b[38;5;28mprint\u001b[39m(\u001b[38;5;124m\"\u001b[39m\u001b[38;5;130;01m\\n\u001b[39;00m\u001b[38;5;124m所有批次的平均結果:\u001b[39m\u001b[38;5;124m\"\u001b[39m)\n\u001b[1;32m     79\u001b[0m mean_results \u001b[38;5;241m=\u001b[39m \u001b[43mresults_df\u001b[49m\u001b[43m[\u001b[49m\u001b[43m[\u001b[49m\n\u001b[1;32m     80\u001b[0m \u001b[43m    \u001b[49m\u001b[38;5;124;43m'\u001b[39;49m\u001b[38;5;124;43mcontext_precision\u001b[39;49m\u001b[38;5;124;43m'\u001b[39;49m\u001b[43m,\u001b[49m\n\u001b[1;32m     81\u001b[0m \u001b[43m    \u001b[49m\u001b[38;5;124;43m'\u001b[39;49m\u001b[38;5;124;43mfaithfulness\u001b[39;49m\u001b[38;5;124;43m'\u001b[39;49m\u001b[43m,\u001b[49m\n\u001b[1;32m     82\u001b[0m \u001b[43m    \u001b[49m\u001b[38;5;124;43m'\u001b[39;49m\u001b[38;5;124;43manswer_relevancy\u001b[39;49m\u001b[38;5;124;43m'\u001b[39;49m\u001b[43m,\u001b[49m\n\u001b[1;32m     83\u001b[0m \u001b[43m    \u001b[49m\u001b[38;5;124;43m'\u001b[39;49m\u001b[38;5;124;43mcontext_recall\u001b[39;49m\u001b[38;5;124;43m'\u001b[39;49m\n\u001b[0;32m---> 84\u001b[0m \u001b[43m]\u001b[49m\u001b[43m]\u001b[49m\u001b[38;5;241;43m.\u001b[39;49m\u001b[43mmean\u001b[49m\u001b[43m(\u001b[49m\u001b[43m)\u001b[49m\n\u001b[1;32m     85\u001b[0m \u001b[38;5;28mprint\u001b[39m(mean_results)\n\u001b[1;32m     87\u001b[0m \u001b[38;5;66;03m# 保存最終結果\u001b[39;00m\n",
      "File \u001b[0;32m~/Desktop/IRTM_project/.venv/lib/python3.12/site-packages/pandas/core/frame.py:11693\u001b[0m, in \u001b[0;36mDataFrame.mean\u001b[0;34m(self, axis, skipna, numeric_only, **kwargs)\u001b[0m\n\u001b[1;32m  11685\u001b[0m \u001b[38;5;129m@doc\u001b[39m(make_doc(\u001b[38;5;124m\"\u001b[39m\u001b[38;5;124mmean\u001b[39m\u001b[38;5;124m\"\u001b[39m, ndim\u001b[38;5;241m=\u001b[39m\u001b[38;5;241m2\u001b[39m))\n\u001b[1;32m  11686\u001b[0m \u001b[38;5;28;01mdef\u001b[39;00m \u001b[38;5;21mmean\u001b[39m(\n\u001b[1;32m  11687\u001b[0m     \u001b[38;5;28mself\u001b[39m,\n\u001b[0;32m   (...)\u001b[0m\n\u001b[1;32m  11691\u001b[0m     \u001b[38;5;241m*\u001b[39m\u001b[38;5;241m*\u001b[39mkwargs,\n\u001b[1;32m  11692\u001b[0m ):\n\u001b[0;32m> 11693\u001b[0m     result \u001b[38;5;241m=\u001b[39m \u001b[38;5;28;43msuper\u001b[39;49m\u001b[43m(\u001b[49m\u001b[43m)\u001b[49m\u001b[38;5;241;43m.\u001b[39;49m\u001b[43mmean\u001b[49m\u001b[43m(\u001b[49m\u001b[43maxis\u001b[49m\u001b[43m,\u001b[49m\u001b[43m \u001b[49m\u001b[43mskipna\u001b[49m\u001b[43m,\u001b[49m\u001b[43m \u001b[49m\u001b[43mnumeric_only\u001b[49m\u001b[43m,\u001b[49m\u001b[43m \u001b[49m\u001b[38;5;241;43m*\u001b[39;49m\u001b[38;5;241;43m*\u001b[39;49m\u001b[43mkwargs\u001b[49m\u001b[43m)\u001b[49m\n\u001b[1;32m  11694\u001b[0m     \u001b[38;5;28;01mif\u001b[39;00m \u001b[38;5;28misinstance\u001b[39m(result, Series):\n\u001b[1;32m  11695\u001b[0m         result \u001b[38;5;241m=\u001b[39m result\u001b[38;5;241m.\u001b[39m__finalize__(\u001b[38;5;28mself\u001b[39m, method\u001b[38;5;241m=\u001b[39m\u001b[38;5;124m\"\u001b[39m\u001b[38;5;124mmean\u001b[39m\u001b[38;5;124m\"\u001b[39m)\n",
      "File \u001b[0;32m~/Desktop/IRTM_project/.venv/lib/python3.12/site-packages/pandas/core/generic.py:12420\u001b[0m, in \u001b[0;36mNDFrame.mean\u001b[0;34m(self, axis, skipna, numeric_only, **kwargs)\u001b[0m\n\u001b[1;32m  12413\u001b[0m \u001b[38;5;28;01mdef\u001b[39;00m \u001b[38;5;21mmean\u001b[39m(\n\u001b[1;32m  12414\u001b[0m     \u001b[38;5;28mself\u001b[39m,\n\u001b[1;32m  12415\u001b[0m     axis: Axis \u001b[38;5;241m|\u001b[39m \u001b[38;5;28;01mNone\u001b[39;00m \u001b[38;5;241m=\u001b[39m \u001b[38;5;241m0\u001b[39m,\n\u001b[0;32m   (...)\u001b[0m\n\u001b[1;32m  12418\u001b[0m     \u001b[38;5;241m*\u001b[39m\u001b[38;5;241m*\u001b[39mkwargs,\n\u001b[1;32m  12419\u001b[0m ) \u001b[38;5;241m-\u001b[39m\u001b[38;5;241m>\u001b[39m Series \u001b[38;5;241m|\u001b[39m \u001b[38;5;28mfloat\u001b[39m:\n\u001b[0;32m> 12420\u001b[0m     \u001b[38;5;28;01mreturn\u001b[39;00m \u001b[38;5;28;43mself\u001b[39;49m\u001b[38;5;241;43m.\u001b[39;49m\u001b[43m_stat_function\u001b[49m\u001b[43m(\u001b[49m\n\u001b[1;32m  12421\u001b[0m \u001b[43m        \u001b[49m\u001b[38;5;124;43m\"\u001b[39;49m\u001b[38;5;124;43mmean\u001b[39;49m\u001b[38;5;124;43m\"\u001b[39;49m\u001b[43m,\u001b[49m\u001b[43m \u001b[49m\u001b[43mnanops\u001b[49m\u001b[38;5;241;43m.\u001b[39;49m\u001b[43mnanmean\u001b[49m\u001b[43m,\u001b[49m\u001b[43m \u001b[49m\u001b[43maxis\u001b[49m\u001b[43m,\u001b[49m\u001b[43m \u001b[49m\u001b[43mskipna\u001b[49m\u001b[43m,\u001b[49m\u001b[43m \u001b[49m\u001b[43mnumeric_only\u001b[49m\u001b[43m,\u001b[49m\u001b[43m \u001b[49m\u001b[38;5;241;43m*\u001b[39;49m\u001b[38;5;241;43m*\u001b[39;49m\u001b[43mkwargs\u001b[49m\n\u001b[1;32m  12422\u001b[0m \u001b[43m    \u001b[49m\u001b[43m)\u001b[49m\n",
      "File \u001b[0;32m~/Desktop/IRTM_project/.venv/lib/python3.12/site-packages/pandas/core/generic.py:12377\u001b[0m, in \u001b[0;36mNDFrame._stat_function\u001b[0;34m(self, name, func, axis, skipna, numeric_only, **kwargs)\u001b[0m\n\u001b[1;32m  12373\u001b[0m nv\u001b[38;5;241m.\u001b[39mvalidate_func(name, (), kwargs)\n\u001b[1;32m  12375\u001b[0m validate_bool_kwarg(skipna, \u001b[38;5;124m\"\u001b[39m\u001b[38;5;124mskipna\u001b[39m\u001b[38;5;124m\"\u001b[39m, none_allowed\u001b[38;5;241m=\u001b[39m\u001b[38;5;28;01mFalse\u001b[39;00m)\n\u001b[0;32m> 12377\u001b[0m \u001b[38;5;28;01mreturn\u001b[39;00m \u001b[38;5;28;43mself\u001b[39;49m\u001b[38;5;241;43m.\u001b[39;49m\u001b[43m_reduce\u001b[49m\u001b[43m(\u001b[49m\n\u001b[1;32m  12378\u001b[0m \u001b[43m    \u001b[49m\u001b[43mfunc\u001b[49m\u001b[43m,\u001b[49m\u001b[43m \u001b[49m\u001b[43mname\u001b[49m\u001b[38;5;241;43m=\u001b[39;49m\u001b[43mname\u001b[49m\u001b[43m,\u001b[49m\u001b[43m \u001b[49m\u001b[43maxis\u001b[49m\u001b[38;5;241;43m=\u001b[39;49m\u001b[43maxis\u001b[49m\u001b[43m,\u001b[49m\u001b[43m \u001b[49m\u001b[43mskipna\u001b[49m\u001b[38;5;241;43m=\u001b[39;49m\u001b[43mskipna\u001b[49m\u001b[43m,\u001b[49m\u001b[43m \u001b[49m\u001b[43mnumeric_only\u001b[49m\u001b[38;5;241;43m=\u001b[39;49m\u001b[43mnumeric_only\u001b[49m\n\u001b[1;32m  12379\u001b[0m \u001b[43m\u001b[49m\u001b[43m)\u001b[49m\n",
      "File \u001b[0;32m~/Desktop/IRTM_project/.venv/lib/python3.12/site-packages/pandas/core/frame.py:11562\u001b[0m, in \u001b[0;36mDataFrame._reduce\u001b[0;34m(self, op, name, axis, skipna, numeric_only, filter_type, **kwds)\u001b[0m\n\u001b[1;32m  11558\u001b[0m     df \u001b[38;5;241m=\u001b[39m df\u001b[38;5;241m.\u001b[39mT\n\u001b[1;32m  11560\u001b[0m \u001b[38;5;66;03m# After possibly _get_data and transposing, we are now in the\u001b[39;00m\n\u001b[1;32m  11561\u001b[0m \u001b[38;5;66;03m#  simple case where we can use BlockManager.reduce\u001b[39;00m\n\u001b[0;32m> 11562\u001b[0m res \u001b[38;5;241m=\u001b[39m \u001b[43mdf\u001b[49m\u001b[38;5;241;43m.\u001b[39;49m\u001b[43m_mgr\u001b[49m\u001b[38;5;241;43m.\u001b[39;49m\u001b[43mreduce\u001b[49m\u001b[43m(\u001b[49m\u001b[43mblk_func\u001b[49m\u001b[43m)\u001b[49m\n\u001b[1;32m  11563\u001b[0m out \u001b[38;5;241m=\u001b[39m df\u001b[38;5;241m.\u001b[39m_constructor_from_mgr(res, axes\u001b[38;5;241m=\u001b[39mres\u001b[38;5;241m.\u001b[39maxes)\u001b[38;5;241m.\u001b[39miloc[\u001b[38;5;241m0\u001b[39m]\n\u001b[1;32m  11564\u001b[0m \u001b[38;5;28;01mif\u001b[39;00m out_dtype \u001b[38;5;129;01mis\u001b[39;00m \u001b[38;5;129;01mnot\u001b[39;00m \u001b[38;5;28;01mNone\u001b[39;00m \u001b[38;5;129;01mand\u001b[39;00m out\u001b[38;5;241m.\u001b[39mdtype \u001b[38;5;241m!=\u001b[39m \u001b[38;5;124m\"\u001b[39m\u001b[38;5;124mboolean\u001b[39m\u001b[38;5;124m\"\u001b[39m:\n",
      "File \u001b[0;32m~/Desktop/IRTM_project/.venv/lib/python3.12/site-packages/pandas/core/internals/managers.py:1500\u001b[0m, in \u001b[0;36mBlockManager.reduce\u001b[0;34m(self, func)\u001b[0m\n\u001b[1;32m   1498\u001b[0m res_blocks: \u001b[38;5;28mlist\u001b[39m[Block] \u001b[38;5;241m=\u001b[39m []\n\u001b[1;32m   1499\u001b[0m \u001b[38;5;28;01mfor\u001b[39;00m blk \u001b[38;5;129;01min\u001b[39;00m \u001b[38;5;28mself\u001b[39m\u001b[38;5;241m.\u001b[39mblocks:\n\u001b[0;32m-> 1500\u001b[0m     nbs \u001b[38;5;241m=\u001b[39m \u001b[43mblk\u001b[49m\u001b[38;5;241;43m.\u001b[39;49m\u001b[43mreduce\u001b[49m\u001b[43m(\u001b[49m\u001b[43mfunc\u001b[49m\u001b[43m)\u001b[49m\n\u001b[1;32m   1501\u001b[0m     res_blocks\u001b[38;5;241m.\u001b[39mextend(nbs)\n\u001b[1;32m   1503\u001b[0m index \u001b[38;5;241m=\u001b[39m Index([\u001b[38;5;28;01mNone\u001b[39;00m])  \u001b[38;5;66;03m# placeholder\u001b[39;00m\n",
      "File \u001b[0;32m~/Desktop/IRTM_project/.venv/lib/python3.12/site-packages/pandas/core/internals/blocks.py:404\u001b[0m, in \u001b[0;36mBlock.reduce\u001b[0;34m(self, func)\u001b[0m\n\u001b[1;32m    398\u001b[0m \u001b[38;5;129m@final\u001b[39m\n\u001b[1;32m    399\u001b[0m \u001b[38;5;28;01mdef\u001b[39;00m \u001b[38;5;21mreduce\u001b[39m(\u001b[38;5;28mself\u001b[39m, func) \u001b[38;5;241m-\u001b[39m\u001b[38;5;241m>\u001b[39m \u001b[38;5;28mlist\u001b[39m[Block]:\n\u001b[1;32m    400\u001b[0m     \u001b[38;5;66;03m# We will apply the function and reshape the result into a single-row\u001b[39;00m\n\u001b[1;32m    401\u001b[0m     \u001b[38;5;66;03m#  Block with the same mgr_locs; squeezing will be done at a higher level\u001b[39;00m\n\u001b[1;32m    402\u001b[0m     \u001b[38;5;28;01massert\u001b[39;00m \u001b[38;5;28mself\u001b[39m\u001b[38;5;241m.\u001b[39mndim \u001b[38;5;241m==\u001b[39m \u001b[38;5;241m2\u001b[39m\n\u001b[0;32m--> 404\u001b[0m     result \u001b[38;5;241m=\u001b[39m \u001b[43mfunc\u001b[49m\u001b[43m(\u001b[49m\u001b[38;5;28;43mself\u001b[39;49m\u001b[38;5;241;43m.\u001b[39;49m\u001b[43mvalues\u001b[49m\u001b[43m)\u001b[49m\n\u001b[1;32m    406\u001b[0m     \u001b[38;5;28;01mif\u001b[39;00m \u001b[38;5;28mself\u001b[39m\u001b[38;5;241m.\u001b[39mvalues\u001b[38;5;241m.\u001b[39mndim \u001b[38;5;241m==\u001b[39m \u001b[38;5;241m1\u001b[39m:\n\u001b[1;32m    407\u001b[0m         res_values \u001b[38;5;241m=\u001b[39m result\n",
      "File \u001b[0;32m~/Desktop/IRTM_project/.venv/lib/python3.12/site-packages/pandas/core/frame.py:11481\u001b[0m, in \u001b[0;36mDataFrame._reduce.<locals>.blk_func\u001b[0;34m(values, axis)\u001b[0m\n\u001b[1;32m  11479\u001b[0m         \u001b[38;5;28;01mreturn\u001b[39;00m np\u001b[38;5;241m.\u001b[39marray([result])\n\u001b[1;32m  11480\u001b[0m \u001b[38;5;28;01melse\u001b[39;00m:\n\u001b[0;32m> 11481\u001b[0m     \u001b[38;5;28;01mreturn\u001b[39;00m \u001b[43mop\u001b[49m\u001b[43m(\u001b[49m\u001b[43mvalues\u001b[49m\u001b[43m,\u001b[49m\u001b[43m \u001b[49m\u001b[43maxis\u001b[49m\u001b[38;5;241;43m=\u001b[39;49m\u001b[43maxis\u001b[49m\u001b[43m,\u001b[49m\u001b[43m \u001b[49m\u001b[43mskipna\u001b[49m\u001b[38;5;241;43m=\u001b[39;49m\u001b[43mskipna\u001b[49m\u001b[43m,\u001b[49m\u001b[43m \u001b[49m\u001b[38;5;241;43m*\u001b[39;49m\u001b[38;5;241;43m*\u001b[39;49m\u001b[43mkwds\u001b[49m\u001b[43m)\u001b[49m\n",
      "File \u001b[0;32m~/Desktop/IRTM_project/.venv/lib/python3.12/site-packages/pandas/core/nanops.py:147\u001b[0m, in \u001b[0;36mbottleneck_switch.__call__.<locals>.f\u001b[0;34m(values, axis, skipna, **kwds)\u001b[0m\n\u001b[1;32m    145\u001b[0m         result \u001b[38;5;241m=\u001b[39m alt(values, axis\u001b[38;5;241m=\u001b[39maxis, skipna\u001b[38;5;241m=\u001b[39mskipna, \u001b[38;5;241m*\u001b[39m\u001b[38;5;241m*\u001b[39mkwds)\n\u001b[1;32m    146\u001b[0m \u001b[38;5;28;01melse\u001b[39;00m:\n\u001b[0;32m--> 147\u001b[0m     result \u001b[38;5;241m=\u001b[39m \u001b[43malt\u001b[49m\u001b[43m(\u001b[49m\u001b[43mvalues\u001b[49m\u001b[43m,\u001b[49m\u001b[43m \u001b[49m\u001b[43maxis\u001b[49m\u001b[38;5;241;43m=\u001b[39;49m\u001b[43maxis\u001b[49m\u001b[43m,\u001b[49m\u001b[43m \u001b[49m\u001b[43mskipna\u001b[49m\u001b[38;5;241;43m=\u001b[39;49m\u001b[43mskipna\u001b[49m\u001b[43m,\u001b[49m\u001b[43m \u001b[49m\u001b[38;5;241;43m*\u001b[39;49m\u001b[38;5;241;43m*\u001b[39;49m\u001b[43mkwds\u001b[49m\u001b[43m)\u001b[49m\n\u001b[1;32m    149\u001b[0m \u001b[38;5;28;01mreturn\u001b[39;00m result\n",
      "File \u001b[0;32m~/Desktop/IRTM_project/.venv/lib/python3.12/site-packages/pandas/core/nanops.py:404\u001b[0m, in \u001b[0;36m_datetimelike_compat.<locals>.new_func\u001b[0;34m(values, axis, skipna, mask, **kwargs)\u001b[0m\n\u001b[1;32m    401\u001b[0m \u001b[38;5;28;01mif\u001b[39;00m datetimelike \u001b[38;5;129;01mand\u001b[39;00m mask \u001b[38;5;129;01mis\u001b[39;00m \u001b[38;5;28;01mNone\u001b[39;00m:\n\u001b[1;32m    402\u001b[0m     mask \u001b[38;5;241m=\u001b[39m isna(values)\n\u001b[0;32m--> 404\u001b[0m result \u001b[38;5;241m=\u001b[39m \u001b[43mfunc\u001b[49m\u001b[43m(\u001b[49m\u001b[43mvalues\u001b[49m\u001b[43m,\u001b[49m\u001b[43m \u001b[49m\u001b[43maxis\u001b[49m\u001b[38;5;241;43m=\u001b[39;49m\u001b[43maxis\u001b[49m\u001b[43m,\u001b[49m\u001b[43m \u001b[49m\u001b[43mskipna\u001b[49m\u001b[38;5;241;43m=\u001b[39;49m\u001b[43mskipna\u001b[49m\u001b[43m,\u001b[49m\u001b[43m \u001b[49m\u001b[43mmask\u001b[49m\u001b[38;5;241;43m=\u001b[39;49m\u001b[43mmask\u001b[49m\u001b[43m,\u001b[49m\u001b[43m \u001b[49m\u001b[38;5;241;43m*\u001b[39;49m\u001b[38;5;241;43m*\u001b[39;49m\u001b[43mkwargs\u001b[49m\u001b[43m)\u001b[49m\n\u001b[1;32m    406\u001b[0m \u001b[38;5;28;01mif\u001b[39;00m datetimelike:\n\u001b[1;32m    407\u001b[0m     result \u001b[38;5;241m=\u001b[39m _wrap_results(result, orig_values\u001b[38;5;241m.\u001b[39mdtype, fill_value\u001b[38;5;241m=\u001b[39miNaT)\n",
      "File \u001b[0;32m~/Desktop/IRTM_project/.venv/lib/python3.12/site-packages/pandas/core/nanops.py:720\u001b[0m, in \u001b[0;36mnanmean\u001b[0;34m(values, axis, skipna, mask)\u001b[0m\n\u001b[1;32m    718\u001b[0m count \u001b[38;5;241m=\u001b[39m _get_counts(values\u001b[38;5;241m.\u001b[39mshape, mask, axis, dtype\u001b[38;5;241m=\u001b[39mdtype_count)\n\u001b[1;32m    719\u001b[0m the_sum \u001b[38;5;241m=\u001b[39m values\u001b[38;5;241m.\u001b[39msum(axis, dtype\u001b[38;5;241m=\u001b[39mdtype_sum)\n\u001b[0;32m--> 720\u001b[0m the_sum \u001b[38;5;241m=\u001b[39m \u001b[43m_ensure_numeric\u001b[49m\u001b[43m(\u001b[49m\u001b[43mthe_sum\u001b[49m\u001b[43m)\u001b[49m\n\u001b[1;32m    722\u001b[0m \u001b[38;5;28;01mif\u001b[39;00m axis \u001b[38;5;129;01mis\u001b[39;00m \u001b[38;5;129;01mnot\u001b[39;00m \u001b[38;5;28;01mNone\u001b[39;00m \u001b[38;5;129;01mand\u001b[39;00m \u001b[38;5;28mgetattr\u001b[39m(the_sum, \u001b[38;5;124m\"\u001b[39m\u001b[38;5;124mndim\u001b[39m\u001b[38;5;124m\"\u001b[39m, \u001b[38;5;28;01mFalse\u001b[39;00m):\n\u001b[1;32m    723\u001b[0m     count \u001b[38;5;241m=\u001b[39m cast(np\u001b[38;5;241m.\u001b[39mndarray, count)\n",
      "File \u001b[0;32m~/Desktop/IRTM_project/.venv/lib/python3.12/site-packages/pandas/core/nanops.py:1686\u001b[0m, in \u001b[0;36m_ensure_numeric\u001b[0;34m(x)\u001b[0m\n\u001b[1;32m   1683\u001b[0m inferred \u001b[38;5;241m=\u001b[39m lib\u001b[38;5;241m.\u001b[39minfer_dtype(x)\n\u001b[1;32m   1684\u001b[0m \u001b[38;5;28;01mif\u001b[39;00m inferred \u001b[38;5;129;01min\u001b[39;00m [\u001b[38;5;124m\"\u001b[39m\u001b[38;5;124mstring\u001b[39m\u001b[38;5;124m\"\u001b[39m, \u001b[38;5;124m\"\u001b[39m\u001b[38;5;124mmixed\u001b[39m\u001b[38;5;124m\"\u001b[39m]:\n\u001b[1;32m   1685\u001b[0m     \u001b[38;5;66;03m# GH#44008, GH#36703 avoid casting e.g. strings to numeric\u001b[39;00m\n\u001b[0;32m-> 1686\u001b[0m     \u001b[38;5;28;01mraise\u001b[39;00m \u001b[38;5;167;01mTypeError\u001b[39;00m(\u001b[38;5;124mf\u001b[39m\u001b[38;5;124m\"\u001b[39m\u001b[38;5;124mCould not convert \u001b[39m\u001b[38;5;132;01m{\u001b[39;00mx\u001b[38;5;132;01m}\u001b[39;00m\u001b[38;5;124m to numeric\u001b[39m\u001b[38;5;124m\"\u001b[39m)\n\u001b[1;32m   1687\u001b[0m \u001b[38;5;28;01mtry\u001b[39;00m:\n\u001b[1;32m   1688\u001b[0m     x \u001b[38;5;241m=\u001b[39m x\u001b[38;5;241m.\u001b[39mastype(np\u001b[38;5;241m.\u001b[39mcomplex128)\n",
      "\u001b[0;31mTypeError\u001b[0m: Could not convert [list([0.9999999999, 0.9999999999, 0.9999999999, 0.9999999999, 0.9999999999, 0.0, 0.9999999999, 0.9999999999, 0.9999999999, 0.9999999999, 0.9999999999, 0.9999999999, 0.9999999999, 0.9999999999, 0.9999999999, 0.9999999999, 0.9999999999, 0.9999999999, 0.9999999999, 0.9999999999, 0.9999999999, 0.9999999999, 0.9999999999, 0.9999999999, 0.9999999999, 0.9999999999, 0.9999999999, 0.9999999999, 0.9999999999, 0.9999999999, 0.9999999999, 0.9999999999, 0.9999999999, 0.9999999999, 0.9999999999, 0.9999999999, 0.9999999999, 0.9999999999, 0.9999999999, 0.9999999999, 0.9999999999, 0.0, 0.9999999999, 0.9999999999, 0.9999999999, 0.9999999999, 0.9999999999, 0.9999999999, 0.9999999999, 0.9999999999, 0.9999999999, 0.9999999999, 0.9999999999, 0.9999999999, 0.9999999999, 0.9999999999, 0.9999999999, 0.9999999999, 0.9999999999, 0.9999999999, 0.9999999999, 0.9999999999, 0.0, 0.9999999999, 0.9999999999, 0.9999999999, 0.9999999999, 0.9999999999, 0.9999999999, 0.0, 0.9999999999, 0.9999999999, 0.9999999999, 0.9999999999, 0.9999999999, 0.9999999999, 0.9999999999, 0.9999999999, 0.9999999999, 0.9999999999, 0.9999999999, 0.0, 0.0, 0.0, 0.9999999999, 0.9999999999, 0.9999999999, 0.0, 0.9999999999, 0.9999999999, 0.9999999999, 0.9999999999, 0.9999999999, 0.9999999999, 0.9999999999, 0.9999999999, 0.9999999999, 0.9999999999, 0.9999999999, 0.9999999999])] to numeric"
     ]
    }
   ],
   "source": [
    "from ragas import evaluate\n",
    "import time\n",
    "from datetime import datetime\n",
    "import pandas as pd\n",
    "import numpy as np\n",
    "\n",
    "# 創建空的DataFrame來存儲結果\n",
    "results_df = pd.DataFrame(columns=[\n",
    "    'batch_number',\n",
    "    'start_time',\n",
    "    'end_time',\n",
    "    'execution_time',\n",
    "    'context_precision',\n",
    "    'faithfulness',\n",
    "    'answer_relevancy',\n",
    "    'context_recall'\n",
    "])\n",
    "\n",
    "# 計算總批次數（每批10個樣本）\n",
    "total_samples = len(dataset_dict)\n",
    "batch_size = 10\n",
    "num_batches = 10\n",
    "\n",
    "for batch in range(num_batches):\n",
    "    # 記錄開始時間\n",
    "    start_time = time.time()\n",
    "    start_datetime = datetime.now().strftime(\"%Y-%m-%d %H:%M:%S\")\n",
    "    print(f\"\\n批次 {batch + 1}/{num_batches}\")\n",
    "    print(f\"評估開始時間: {start_datetime}\")\n",
    "    \n",
    "    # 選擇當前批次的數據\n",
    "    start_idx = batch * batch_size\n",
    "    end_idx = start_idx + batch_size\n",
    "    batch_data = dataset_dict.select(range(start_idx, end_idx))\n",
    "    \n",
    "    try:\n",
    "        # 執行評估\n",
    "        result = evaluate(\n",
    "            batch_data,\n",
    "            metrics=[\n",
    "                context_precision,\n",
    "                faithfulness,\n",
    "                answer_relevancy,\n",
    "                context_recall\n",
    "            ],\n",
    "        )\n",
    "        \n",
    "        # 記錄結束時間\n",
    "        end_time = time.time()\n",
    "        end_datetime = datetime.now().strftime(\"%Y-%m-%d %H:%M:%S\")\n",
    "        execution_time = end_time - start_time\n",
    "        \n",
    "        # 將結果添加到DataFrame\n",
    "        results_df.loc[batch] = {\n",
    "            'batch_number': batch + 1,\n",
    "            'start_time': start_datetime,\n",
    "            'end_time': end_datetime,\n",
    "            'execution_time': execution_time,\n",
    "            'context_precision': result['context_precision'],\n",
    "            'faithfulness': result['faithfulness'],\n",
    "            'answer_relevancy': result['answer_relevancy'],\n",
    "            'context_recall': result['context_recall']\n",
    "        }\n",
    "        \n",
    "        print(f\"評估結束時間: {end_datetime}\")\n",
    "        print(f\"執行時間: {execution_time:.2f} 秒\")\n",
    "        print(\"\\n當前批次結果:\")\n",
    "        print(result)\n",
    "        \n",
    "        # 保存中間結果到CSV\n",
    "        results_df.to_csv('ragas_evaluation_results.csv', index=False)\n",
    "        \n",
    "    except Exception as e:\n",
    "        print(f\"批次 {batch + 1} 發生錯誤: {str(e)}\")\n",
    "        continue\n",
    "\n"
   ]
  },
  {
   "cell_type": "code",
   "execution_count": 45,
   "metadata": {},
   "outputs": [
    {
     "name": "stdout",
     "output_type": "stream",
     "text": [
      "              user_input                                 retrieved_contexts  \\\n",
      "0    上畛子革命舊址的保護範圍包括哪些內容？  [上畛子革命舊址 上畛子革命舊址，時代：1931—1937年，地址：延安市黃陵縣雙龍鎮林灣村...   \n",
      "1            餘新顏擔任過哪些職務？  [餘新顏 餘新顏，女，1976年1月出生，四川南江人，1996年6月加入中國共產黨，1997...   \n",
      "2              什麼是全液壓鑽機？  [全液壓鑽機 全液壓鑽機（all-hydraulic operated drill）也稱全油...   \n",
      "3            絲帶切帶機有哪些特點？  [絲帶切帶機 絲帶切帶機是利用超聲波熔接技術與傳統剪切相結合，在超聲波發生器工作時，將超聲波...   \n",
      "4     《也許吧》是哪裏連載的一部都市小說？  [也許吧 《也許吧》是連載於新浪讀書網的一部都市小說，作者是小四朵。小說類型 都市小說 內容...   \n",
      "5           假面愛人遊戲的作者是誰？  [假面愛人 《假面愛人》是一款校園文字遊戲，遊戲作者是米斯特（@mister2）。假面愛人遊...   \n",
      "6                三養是指什麼？  [三養 三養，讀音sān yǎng，漢語詞語，謂養福、養氣、養財。條目：三養（三養） 解釋：...   \n",
      "7        《中國民俗老黃曆》的作者是誰？  [中國民俗老黃曆 《中國民俗老黃曆》由氣象出版社出版，作者任丙未。老黃曆是中國傳統民俗文化的...   \n",
      "8  八里關鎮的人口數量和行政區劃情況是怎樣的？  [八里關鎮 八里關鎮地處洋縣北部，屬中國氣候南北分界線－秦嶺腹地，平均海拔700米，距縣城4...   \n",
      "9         在臺灣，是否設立了兒童法庭？  [兒童法庭 兒童法庭，作爲一般法庭的對照，是用以區別審理少年犯罪者與成人犯罪者的特殊法庭。 ...   \n",
      "\n",
      "                                            response  \\\n",
      "0  上畛子革命舊址的保護範圍包括A區和B區：\\n\\n- A區：\\n  1. 高窯子革命舊址：舊址...   \n",
      "1  餘新顏擔任過的職務包括：\\n\\n1. 南江縣下兩鄉人民政府工作（1997.04—1997.0...   \n",
      "2  全液壓鑽機（all-hydraulic operated drill），也稱全油壓鑽機，是指...   \n",
      "3  絲帶切帶機具有以下特點：\\n\\n1. 使用超聲波剪切絲帶，切口完整美觀，切邊整齊平滑、無毛邊...   \n",
      "4                             《也許吧》是連載於新浪讀書網的一部都市小說。   \n",
      "5                           假面愛人遊戲的作者是米斯特（@mister2）。   \n",
      "6                                      三養是指養福、養氣、養財。   \n",
      "7                                  《中國民俗老黃曆》的作者是任丙未。   \n",
      "8  八里關鎮的人口數量為3429人（2017年數據），轄有8個行政村和46個村民小組。行政區劃包...   \n",
      "9  在臺灣，兒童法庭並未設立，因為12歲以下的人被認為無犯罪能力。具有犯罪能力的12歲以上、18...   \n",
      "\n",
      "                                           reference  context_precision  \\\n",
      "0  根據原文“保護範圍及建設控制地帶A區：（1）高窯子革命舊址：舊址本體。（2）小石崖革命舊址：...                1.0   \n",
      "1  根據原文“餘新顏，女，1976年1月出生，四川南江人，1996年6月加入中國共產黨，1997...                1.0   \n",
      "2  根據原文“全液壓鑽機（all-hydraulic operated drill）也稱全油壓鑽...                1.0   \n",
      "3  根據原文“絲帶切帶機特點：1.使用超聲波剪切絲帶，切口完整美觀，切邊整齊平滑、無毛邊、不散邊...                1.0   \n",
      "4  根據原文“《也許吧》是連載於新浪讀書網的一部都市小說”可知，《也許吧》是連載於新浪讀書網的一...                1.0   \n",
      "5  根據原文“《假面愛人》是一款校園文字遊戲，遊戲作者是米斯特（@mister2）。”可知，假面...                1.0   \n",
      "6  根據原文“三養，讀音sān yǎng，漢語詞語，謂養福、養氣、養財。條目：三養（三養） 解釋...                1.0   \n",
      "7  根據原文“《中國民俗老黃曆》由氣象出版社出版，作者任丙未”可知，《中國民俗老黃曆》的作者是任丙未。                1.0   \n",
      "8  根據原文“八里關鎮地處洋縣北部，屬中國氣候南北分界線－秦嶺腹地，平均海拔700米，距縣城47...                1.0   \n",
      "9  根據原文“在臺灣，兒童是指12歲以下之人，無犯罪能力，故無兒童法庭之設立”可知，臺灣並沒有設...                1.0   \n",
      "\n",
      "   faithfulness  answer_relevancy  context_recall  \n",
      "0           1.0          0.850859        1.000000  \n",
      "1           1.0          0.844164        1.000000  \n",
      "2           1.0          0.817468        1.000000  \n",
      "3           1.0          0.840821        1.000000  \n",
      "4           1.0          0.851130        1.000000  \n",
      "5           1.0          0.949512        1.000000  \n",
      "6           1.0          0.928086        0.666667  \n",
      "7           1.0          0.872916        1.000000  \n",
      "8           1.0          0.923657        1.000000  \n",
      "9           1.0          0.865583        1.000000  \n"
     ]
    }
   ],
   "source": [
    "#跑了202次?因為有一次失敗了\n",
    "df_ragas = result.to_pandas()\n",
    "print(df_ragas)"
   ]
  },
  {
   "cell_type": "code",
   "execution_count": 51,
   "metadata": {},
   "outputs": [
    {
     "name": "stdout",
     "output_type": "stream",
     "text": [
      "\n",
      "所有批次的平均結果:\n",
      "[0.9999999999, 0.9999999999, 0.9999999999, 0.9999999999, 0.9999999999, 0.0, 0.9999999999, 0.9999999999, 0.9999999999, 0.9999999999]\n"
     ]
    }
   ],
   "source": [
    "import pandas as pd\n",
    "import ast\n",
    "import numpy as np\n",
    "\n",
    "# 讀取CSV文件\n",
    "results_df = pd.read_csv('ragas_evaluation_results.csv')\n",
    "\n",
    "# 初始化結果變數\n",
    "total_execution_time = 0\n",
    "all_context_precision = []\n",
    "all_faithfulness = []\n",
    "all_answer_relevancy = []\n",
    "all_context_recall = []\n",
    "\n",
    "# 遍歷每一行數據\n",
    "for index, row in results_df.iterrows():\n",
    "    # 累加執行時間\n",
    "    total_execution_time += row['execution_time']\n",
    "    \n",
    "    # 將字符串形式的列表轉換為實際的列表\n",
    "    context_precision = ast.literal_eval(row['context_precision'])\n",
    "    faithfulness = ast.literal_eval(row['faithfulness'])\n",
    "    answer_relevancy = ast.literal_eval(row['answer_relevancy'])\n",
    "    context_recall = ast.literal_eval(row['context_recall'])\n",
    "    \n",
    "    # 將每個批次的結果添加到對應的列表中\n",
    "    all_context_precision.extend(context_precision)\n",
    "    all_faithfulness.extend(faithfulness)\n",
    "    all_answer_relevancy.extend(answer_relevancy)\n",
    "    all_context_recall.extend(context_recall)\n",
    "\n",
    "# 計算平均值\n",
    "avg_context_precision = np.mean(all_context_precision)\n",
    "avg_faithfulness = np.mean(all_faithfulness)\n",
    "avg_answer_relevancy = np.mean(all_answer_relevancy)\n",
    "avg_context_recall = np.mean(all_context_recall)\n",
    "\n",
    "# 輸出結果\n",
    "print(\"\\n所有批次的評估結果:\")\n",
    "print(f\"總執行時間: {total_execution_time:.2f} 秒\")\n",
    "print(f\"平均 Context Precision: {avg_context_precision:.4f}\")\n",
    "print(f\"平均 Faithfulness: {avg_faithfulness:.4f}\")\n",
    "print(f\"平均 Answer Relevancy: {avg_answer_relevancy:.4f}\")\n",
    "print(f\"平均 Context Recall: {avg_context_recall:.4f}\")\n",
    "\n",
    "# 將最終結果保存到新的DataFrame\n",
    "final_results = pd.DataFrame({\n",
    "    'metric': ['total_execution_time', 'avg_context_precision', 'avg_faithfulness', 'avg_answer_relevancy', 'avg_context_recall'],\n",
    "    'value': [total_execution_time, avg_context_precision, avg_faithfulness, avg_answer_relevancy, avg_context_recall]\n",
    "})\n",
    "\n",
    "# 保存最終結果\n",
    "final_results.to_csv('ragas_evaluation_summary.csv', index=False)"
   ]
  },
  {
   "cell_type": "code",
   "execution_count": null,
   "metadata": {},
   "outputs": [],
   "source": []
  }
 ],
 "metadata": {
  "kernelspec": {
   "display_name": ".venv",
   "language": "python",
   "name": "python3"
  },
  "language_info": {
   "codemirror_mode": {
    "name": "ipython",
    "version": 3
   },
   "file_extension": ".py",
   "mimetype": "text/x-python",
   "name": "python",
   "nbconvert_exporter": "python",
   "pygments_lexer": "ipython3",
   "version": "3.12.6"
  }
 },
 "nbformat": 4,
 "nbformat_minor": 2
}
